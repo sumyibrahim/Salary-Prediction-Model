{
 "cells": [
  {
   "cell_type": "code",
   "execution_count": 1,
   "id": "e166073e",
   "metadata": {},
   "outputs": [],
   "source": [
    "# Import necessary libraries\n",
    "import pandas as pd\n",
    "import seaborn as sns\n",
    "import matplotlib.pyplot as plt\n",
    "import numpy as np\n",
    "from sklearn.model_selection import cross_val_score, train_test_split\n",
    "from sklearn.preprocessing import StandardScaler\n",
    "from sklearn.linear_model import LinearRegression\n",
    "from sklearn.ensemble import RandomForestRegressor\n",
    "from sklearn.tree import DecisionTreeRegressor\n",
    "from sklearn.svm import SVR\n",
    "from xgboost import XGBRegressor\n",
    "from sklearn.metrics import mean_squared_error\n",
    "from sklearn.pipeline import Pipeline\n"
   ]
  },
  {
   "cell_type": "markdown",
   "id": "2d99b7ae",
   "metadata": {},
   "source": [
    "##  Step 1: Loading and Inspecting the Dataset"
   ]
  },
  {
   "cell_type": "code",
   "execution_count": 2,
   "id": "f7ecf88a",
   "metadata": {},
   "outputs": [
    {
     "data": {
      "text/html": [
       "<div>\n",
       "<style scoped>\n",
       "    .dataframe tbody tr th:only-of-type {\n",
       "        vertical-align: middle;\n",
       "    }\n",
       "\n",
       "    .dataframe tbody tr th {\n",
       "        vertical-align: top;\n",
       "    }\n",
       "\n",
       "    .dataframe thead th {\n",
       "        text-align: right;\n",
       "    }\n",
       "</style>\n",
       "<table border=\"1\" class=\"dataframe\">\n",
       "  <thead>\n",
       "    <tr style=\"text-align: right;\">\n",
       "      <th></th>\n",
       "      <th>work_year</th>\n",
       "      <th>experience_level</th>\n",
       "      <th>employment_type</th>\n",
       "      <th>job_title</th>\n",
       "      <th>salary</th>\n",
       "      <th>salary_currency</th>\n",
       "      <th>salary_in_usd</th>\n",
       "      <th>employee_residence</th>\n",
       "      <th>remote_ratio</th>\n",
       "      <th>company_location</th>\n",
       "      <th>company_size</th>\n",
       "    </tr>\n",
       "  </thead>\n",
       "  <tbody>\n",
       "    <tr>\n",
       "      <th>0</th>\n",
       "      <td>2024</td>\n",
       "      <td>MI</td>\n",
       "      <td>FT</td>\n",
       "      <td>Data Scientist</td>\n",
       "      <td>120000</td>\n",
       "      <td>USD</td>\n",
       "      <td>120000</td>\n",
       "      <td>AU</td>\n",
       "      <td>0</td>\n",
       "      <td>AU</td>\n",
       "      <td>S</td>\n",
       "    </tr>\n",
       "    <tr>\n",
       "      <th>1</th>\n",
       "      <td>2024</td>\n",
       "      <td>MI</td>\n",
       "      <td>FT</td>\n",
       "      <td>Data Scientist</td>\n",
       "      <td>70000</td>\n",
       "      <td>USD</td>\n",
       "      <td>70000</td>\n",
       "      <td>AU</td>\n",
       "      <td>0</td>\n",
       "      <td>AU</td>\n",
       "      <td>S</td>\n",
       "    </tr>\n",
       "    <tr>\n",
       "      <th>2</th>\n",
       "      <td>2024</td>\n",
       "      <td>MI</td>\n",
       "      <td>CT</td>\n",
       "      <td>Data Scientist</td>\n",
       "      <td>130000</td>\n",
       "      <td>USD</td>\n",
       "      <td>130000</td>\n",
       "      <td>US</td>\n",
       "      <td>0</td>\n",
       "      <td>US</td>\n",
       "      <td>M</td>\n",
       "    </tr>\n",
       "    <tr>\n",
       "      <th>3</th>\n",
       "      <td>2024</td>\n",
       "      <td>MI</td>\n",
       "      <td>CT</td>\n",
       "      <td>Data Scientist</td>\n",
       "      <td>110000</td>\n",
       "      <td>USD</td>\n",
       "      <td>110000</td>\n",
       "      <td>US</td>\n",
       "      <td>0</td>\n",
       "      <td>US</td>\n",
       "      <td>M</td>\n",
       "    </tr>\n",
       "    <tr>\n",
       "      <th>4</th>\n",
       "      <td>2024</td>\n",
       "      <td>MI</td>\n",
       "      <td>FT</td>\n",
       "      <td>Data Science Manager</td>\n",
       "      <td>240000</td>\n",
       "      <td>USD</td>\n",
       "      <td>240000</td>\n",
       "      <td>US</td>\n",
       "      <td>0</td>\n",
       "      <td>US</td>\n",
       "      <td>M</td>\n",
       "    </tr>\n",
       "  </tbody>\n",
       "</table>\n",
       "</div>"
      ],
      "text/plain": [
       "   work_year experience_level employment_type             job_title  salary  \\\n",
       "0       2024               MI              FT        Data Scientist  120000   \n",
       "1       2024               MI              FT        Data Scientist   70000   \n",
       "2       2024               MI              CT        Data Scientist  130000   \n",
       "3       2024               MI              CT        Data Scientist  110000   \n",
       "4       2024               MI              FT  Data Science Manager  240000   \n",
       "\n",
       "  salary_currency  salary_in_usd employee_residence  remote_ratio  \\\n",
       "0             USD         120000                 AU             0   \n",
       "1             USD          70000                 AU             0   \n",
       "2             USD         130000                 US             0   \n",
       "3             USD         110000                 US             0   \n",
       "4             USD         240000                 US             0   \n",
       "\n",
       "  company_location company_size  \n",
       "0               AU            S  \n",
       "1               AU            S  \n",
       "2               US            M  \n",
       "3               US            M  \n",
       "4               US            M  "
      ]
     },
     "execution_count": 2,
     "metadata": {},
     "output_type": "execute_result"
    }
   ],
   "source": [
    "# Load the dataset\n",
    "data = pd.read_csv('salaries.csv')\n",
    "\n",
    "# Display the first few rows of the dataset to inspect its contents\n",
    "data.head()\n"
   ]
  },
  {
   "cell_type": "code",
   "execution_count": 3,
   "id": "629d2381",
   "metadata": {},
   "outputs": [
    {
     "data": {
      "text/plain": [
       "(16494, 11)"
      ]
     },
     "execution_count": 3,
     "metadata": {},
     "output_type": "execute_result"
    }
   ],
   "source": [
    "data.shape"
   ]
  },
  {
   "cell_type": "code",
   "execution_count": null,
   "id": "512e0a2c",
   "metadata": {},
   "outputs": [],
   "source": []
  },
  {
   "cell_type": "markdown",
   "id": "a51d4474",
   "metadata": {},
   "source": [
    "## Step 2: Handling Missing Values"
   ]
  },
  {
   "cell_type": "code",
   "execution_count": 4,
   "id": "37779495",
   "metadata": {},
   "outputs": [
    {
     "data": {
      "text/plain": [
       "work_year             0.0\n",
       "experience_level      0.0\n",
       "employment_type       0.0\n",
       "job_title             0.0\n",
       "salary                0.0\n",
       "salary_currency       0.0\n",
       "salary_in_usd         0.0\n",
       "employee_residence    0.0\n",
       "remote_ratio          0.0\n",
       "company_location      0.0\n",
       "company_size          0.0\n",
       "dtype: float64"
      ]
     },
     "execution_count": 4,
     "metadata": {},
     "output_type": "execute_result"
    }
   ],
   "source": [
    "round(data.isnull().mean()*100,2) "
   ]
  },
  {
   "cell_type": "code",
   "execution_count": 5,
   "id": "2e3b8a71",
   "metadata": {},
   "outputs": [
    {
     "data": {
      "text/plain": [
       "0      11084\n",
       "100     5161\n",
       "50       249\n",
       "Name: remote_ratio, dtype: int64"
      ]
     },
     "execution_count": 5,
     "metadata": {},
     "output_type": "execute_result"
    }
   ],
   "source": [
    "data['remote_ratio'].value_counts()"
   ]
  },
  {
   "cell_type": "code",
   "execution_count": 6,
   "id": "b72dbe4a",
   "metadata": {},
   "outputs": [
    {
     "data": {
      "text/plain": [
       "SE    10652\n",
       "MI     4024\n",
       "EN     1319\n",
       "EX      499\n",
       "Name: experience_level, dtype: int64"
      ]
     },
     "execution_count": 6,
     "metadata": {},
     "output_type": "execute_result"
    }
   ],
   "source": [
    "data['experience_level'].value_counts()"
   ]
  },
  {
   "cell_type": "code",
   "execution_count": 7,
   "id": "8ff4d187",
   "metadata": {},
   "outputs": [
    {
     "data": {
      "text/plain": [
       "2023    8519\n",
       "2024    6027\n",
       "2022    1655\n",
       "2021     218\n",
       "2020      75\n",
       "Name: work_year, dtype: int64"
      ]
     },
     "execution_count": 7,
     "metadata": {},
     "output_type": "execute_result"
    }
   ],
   "source": [
    "data['work_year'].value_counts()"
   ]
  },
  {
   "cell_type": "code",
   "execution_count": 8,
   "id": "bc23014c",
   "metadata": {},
   "outputs": [
    {
     "data": {
      "text/plain": [
       "FT    16414\n",
       "PT       38\n",
       "CT       28\n",
       "FL       14\n",
       "Name: employment_type, dtype: int64"
      ]
     },
     "execution_count": 8,
     "metadata": {},
     "output_type": "execute_result"
    }
   ],
   "source": [
    "data['employment_type'].value_counts()"
   ]
  },
  {
   "cell_type": "code",
   "execution_count": 9,
   "id": "63d62227",
   "metadata": {},
   "outputs": [
    {
     "data": {
      "text/plain": [
       "M    15268\n",
       "L     1038\n",
       "S      188\n",
       "Name: company_size, dtype: int64"
      ]
     },
     "execution_count": 9,
     "metadata": {},
     "output_type": "execute_result"
    }
   ],
   "source": [
    "data['company_size'].value_counts()"
   ]
  },
  {
   "cell_type": "code",
   "execution_count": 10,
   "id": "cd9e03d8",
   "metadata": {},
   "outputs": [
    {
     "data": {
      "text/plain": [
       "US    14478\n",
       "GB      694\n",
       "CA      455\n",
       "ES      133\n",
       "DE      105\n",
       "      ...  \n",
       "AM        1\n",
       "QA        1\n",
       "AD        1\n",
       "EC        1\n",
       "MD        1\n",
       "Name: company_location, Length: 77, dtype: int64"
      ]
     },
     "execution_count": 10,
     "metadata": {},
     "output_type": "execute_result"
    }
   ],
   "source": [
    "data['company_location'].value_counts()"
   ]
  },
  {
   "cell_type": "code",
   "execution_count": 11,
   "id": "82e1c5c8",
   "metadata": {},
   "outputs": [
    {
     "name": "stdout",
     "output_type": "stream",
     "text": [
      "US       14478\n",
      "Other      867\n",
      "GB         694\n",
      "CA         455\n",
      "Name: company_location, dtype: int64\n"
     ]
    }
   ],
   "source": [
    "# Group 'company_location' values by their counts\n",
    "location_counts = data['company_location'].value_counts()\n",
    "\n",
    "# Identify locations with counts less than 400\n",
    "locations_to_group = location_counts[location_counts < 400].index\n",
    "\n",
    "# Replace these locations with \"Other\"\n",
    "data['company_location'] = data['company_location'].apply(\n",
    "    lambda x: 'Other' if x in locations_to_group else x\n",
    ")\n",
    "\n",
    "# Verify the changes\n",
    "print(data['company_location'].value_counts())\n"
   ]
  },
  {
   "cell_type": "code",
   "execution_count": 12,
   "id": "239d3b44",
   "metadata": {},
   "outputs": [
    {
     "data": {
      "text/plain": [
       "Data Engineer                    3456\n",
       "Data Scientist                   3312\n",
       "Data Analyst                     2428\n",
       "Machine Learning Engineer        1703\n",
       "Research Scientist                529\n",
       "                                 ... \n",
       "Quantitative Research Analyst       1\n",
       "AWS Data Architect                  1\n",
       "Analytics Engineering Manager       1\n",
       "Marketing Data Scientist            1\n",
       "Data Analytics Associate            1\n",
       "Name: job_title, Length: 155, dtype: int64"
      ]
     },
     "execution_count": 12,
     "metadata": {},
     "output_type": "execute_result"
    }
   ],
   "source": [
    "data['job_title'].value_counts()"
   ]
  },
  {
   "cell_type": "code",
   "execution_count": 13,
   "id": "1c94b71c",
   "metadata": {},
   "outputs": [
    {
     "name": "stdout",
     "output_type": "stream",
     "text": [
      "Other                        5066\n",
      "Data Engineer                3456\n",
      "Data Scientist               3312\n",
      "Data Analyst                 2428\n",
      "Machine Learning Engineer    1703\n",
      "Research Scientist            529\n",
      "Name: job_title, dtype: int64\n"
     ]
    }
   ],
   "source": [
    "# Group 'job_title' values by their counts\n",
    "job_title_counts = data['job_title'].value_counts()\n",
    "\n",
    "# Identify job titles with counts less than 500\n",
    "titles_to_group = job_title_counts[job_title_counts < 500].index\n",
    "\n",
    "# Replace these job titles with \"Other\"\n",
    "data['job_title'] = data['job_title'].apply(\n",
    "    lambda x: 'Other' if x in titles_to_group else x\n",
    ")\n",
    "\n",
    "# Verify the changes\n",
    "print(data['job_title'].value_counts())\n"
   ]
  },
  {
   "cell_type": "code",
   "execution_count": 14,
   "id": "72ed4213",
   "metadata": {},
   "outputs": [],
   "source": [
    "data.drop(columns=['salary','employee_residence','salary_currency'], inplace=True)"
   ]
  },
  {
   "cell_type": "markdown",
   "id": "1739e4b0",
   "metadata": {},
   "source": [
    "##  Step 3: Encoding Categorical Variables"
   ]
  },
  {
   "cell_type": "code",
   "execution_count": 15,
   "id": "e9a43341",
   "metadata": {},
   "outputs": [],
   "source": [
    "#1. Ordinal Encoding (Preferred for Meaningful Order)\n",
    "#If company_size has a natural order (e.g., Small < Medium < Large), ordinal encoding is appropriate.\n",
    "#Assign numerical values to the categories\n",
    "\n",
    "size_mapping = {'S': 1, 'M': 2, 'L': 3}\n",
    "data['company_size'] = data['company_size'].map(size_mapping)\n"
   ]
  },
  {
   "cell_type": "code",
   "execution_count": 16,
   "id": "108b402a",
   "metadata": {},
   "outputs": [],
   "source": [
    "# One-Hot Encoding (Most Common for Employment Type)\n",
    "#If there’s no meaningful order between types:\n",
    "data = pd.get_dummies(data, columns=['employment_type'], drop_first=True)\n"
   ]
  },
  {
   "cell_type": "code",
   "execution_count": 17,
   "id": "5026616f",
   "metadata": {},
   "outputs": [],
   "source": [
    "# Ordinal Encoding 'experience_level'\n",
    "#If the levels represent a natural progression (e.g., EN < MI < SE < EX), ordinal encoding is a great choice:\n",
    "\n",
    "\n",
    "experience_mapping = {'EN': 1, 'MI': 2, 'SE': 3, 'EX': 4}\n",
    "data['experience_level'] = data['experience_level'].map(experience_mapping)\n"
   ]
  },
  {
   "cell_type": "code",
   "execution_count": 18,
   "id": "b91e2e91",
   "metadata": {},
   "outputs": [],
   "source": [
    "# One-hot encode the 'job_title' column\n",
    "data = pd.get_dummies(data, columns=['job_title'], drop_first=True)\n"
   ]
  },
  {
   "cell_type": "code",
   "execution_count": 19,
   "id": "e20b54ee",
   "metadata": {},
   "outputs": [],
   "source": [
    "# One-hot encode the 'company_location' column\n",
    "data = pd.get_dummies(data, columns=['company_location'], drop_first=True)\n"
   ]
  },
  {
   "cell_type": "code",
   "execution_count": 20,
   "id": "ee8e3185",
   "metadata": {},
   "outputs": [
    {
     "name": "stdout",
     "output_type": "stream",
     "text": [
      "<class 'pandas.core.frame.DataFrame'>\n",
      "RangeIndex: 16494 entries, 0 to 16493\n",
      "Data columns (total 16 columns):\n",
      " #   Column                               Non-Null Count  Dtype\n",
      "---  ------                               --------------  -----\n",
      " 0   work_year                            16494 non-null  int64\n",
      " 1   experience_level                     16494 non-null  int64\n",
      " 2   salary_in_usd                        16494 non-null  int64\n",
      " 3   remote_ratio                         16494 non-null  int64\n",
      " 4   company_size                         16494 non-null  int64\n",
      " 5   employment_type_FL                   16494 non-null  uint8\n",
      " 6   employment_type_FT                   16494 non-null  uint8\n",
      " 7   employment_type_PT                   16494 non-null  uint8\n",
      " 8   job_title_Data Engineer              16494 non-null  uint8\n",
      " 9   job_title_Data Scientist             16494 non-null  uint8\n",
      " 10  job_title_Machine Learning Engineer  16494 non-null  uint8\n",
      " 11  job_title_Other                      16494 non-null  uint8\n",
      " 12  job_title_Research Scientist         16494 non-null  uint8\n",
      " 13  company_location_GB                  16494 non-null  uint8\n",
      " 14  company_location_Other               16494 non-null  uint8\n",
      " 15  company_location_US                  16494 non-null  uint8\n",
      "dtypes: int64(5), uint8(11)\n",
      "memory usage: 821.6 KB\n"
     ]
    }
   ],
   "source": [
    "data.info()"
   ]
  },
  {
   "cell_type": "markdown",
   "id": "6153c144",
   "metadata": {},
   "source": [
    "## Step 4: Splitting Features and Target"
   ]
  },
  {
   "cell_type": "code",
   "execution_count": 21,
   "id": "e489ab02",
   "metadata": {},
   "outputs": [
    {
     "name": "stdout",
     "output_type": "stream",
     "text": [
      "(16494, 15) (16494,)\n"
     ]
    }
   ],
   "source": [
    "# Split the data into features (X) and target (y)\n",
    "X = data.drop('salary_in_usd', axis=1)\n",
    "y = data['salary_in_usd']\n",
    "\n",
    "# Check the shapes of X and y\n",
    "print(X.shape, y.shape)\n"
   ]
  },
  {
   "cell_type": "markdown",
   "id": "944d197e",
   "metadata": {},
   "source": [
    "## Step 5: Train-Test Split"
   ]
  },
  {
   "cell_type": "code",
   "execution_count": 22,
   "id": "54b1abd1",
   "metadata": {},
   "outputs": [
    {
     "name": "stdout",
     "output_type": "stream",
     "text": [
      "(13195, 15) (3299, 15) (13195,) (3299,)\n"
     ]
    }
   ],
   "source": [
    "from sklearn.model_selection import train_test_split\n",
    "\n",
    "# Split the data into training and testing sets (e.g., 80% training, 20% testing)\n",
    "X_train, X_test, y_train, y_test = train_test_split(X, y, test_size=0.2, random_state=42)\n",
    "\n",
    "# Check the shape of the resulting datasets\n",
    "print(X_train.shape, X_test.shape, y_train.shape, y_test.shape)\n"
   ]
  },
  {
   "cell_type": "markdown",
   "id": "61675ad4",
   "metadata": {},
   "source": [
    "## Step 6: Feature Scaling (Optional)"
   ]
  },
  {
   "cell_type": "code",
   "execution_count": 23,
   "id": "d41e7410",
   "metadata": {},
   "outputs": [],
   "source": [
    "from sklearn.preprocessing import StandardScaler\n",
    "\n",
    "# Initialize the scaler\n",
    "scaler = StandardScaler()\n",
    "\n",
    "# Fit the scaler on the training data and transform it\n",
    "X_train_scaled = scaler.fit_transform(X_train)\n",
    "\n",
    "# Transform the testing data as well\n",
    "X_test_scaled = scaler.transform(X_test)\n"
   ]
  },
  {
   "cell_type": "code",
   "execution_count": 24,
   "id": "9729b7a2",
   "metadata": {},
   "outputs": [
    {
     "data": {
      "image/png": "[encoded data removed]",
      "text/plain": [
       "<Figure size 640x480 with 1 Axes>"
      ]
     },
     "metadata": {},
     "output_type": "display_data"
    }
   ],
   "source": [
    "import matplotlib.pyplot as plt\n",
    "\n",
    "# Plot histogram of salary_in_usd to check for outliers\n",
    "plt.hist(data['salary_in_usd'], bins=50)\n",
    "plt.title(\"Salary Distribution\")\n",
    "plt.show()\n"
   ]
  },
  {
   "cell_type": "code",
   "execution_count": 25,
   "id": "0cb93faa",
   "metadata": {},
   "outputs": [
    {
     "name": "stdout",
     "output_type": "stream",
     "text": [
      "Lower Bound: -25056.25, Upper Bound: 312473.75\n",
      "Original data shape: (16494, 16)\n",
      "Data shape after removing outliers: (16210, 16)\n",
      "Data shape after capping outliers: (16494, 16)\n"
     ]
    }
   ],
   "source": [
    "# Calculate Q1 (25th percentile) and Q3 (75th percentile)\n",
    "Q1 = data['salary_in_usd'].quantile(0.25)\n",
    "Q3 = data['salary_in_usd'].quantile(0.75)\n",
    "\n",
    "# Calculate the Interquartile Range (IQR)\n",
    "IQR = Q3 - Q1\n",
    "\n",
    "# Define the outlier bounds\n",
    "lower_bound = Q1 - 1.5 * IQR\n",
    "upper_bound = Q3 + 1.5 * IQR\n",
    "\n",
    "print(f\"Lower Bound: {lower_bound}, Upper Bound: {upper_bound}\")\n",
    "\n",
    "# Option 1: Remove outliers\n",
    "data_no_outliers = data[(data['salary_in_usd'] >= lower_bound) & (data['salary_in_usd'] <= upper_bound)]\n",
    "\n",
    "# Option 2: Cap outliers\n",
    "data_capped = data.copy()\n",
    "data_capped['salary_in_usd'] = data_capped['salary_in_usd'].apply(lambda x: lower_bound if x < lower_bound else (upper_bound if x > upper_bound else x))\n",
    "\n",
    "# Print shape of the data after outlier treatment\n",
    "print(\"Original data shape:\", data.shape)\n",
    "print(\"Data shape after removing outliers:\", data_no_outliers.shape)\n",
    "print(\"Data shape after capping outliers:\", data_capped.shape)"
   ]
  },
  {
   "cell_type": "code",
   "execution_count": 26,
   "id": "37e9e772",
   "metadata": {},
   "outputs": [
    {
     "data": {
      "image/png": "[encoded data removed]",
      "text/plain": [
       "<Figure size 1000x600 with 1 Axes>"
      ]
     },
     "metadata": {},
     "output_type": "display_data"
    }
   ],
   "source": [
    "# Visualize salary_in_usd after outlier removal or capping\n",
    "plt.figure(figsize=(10, 6))\n",
    "sns.boxplot(x=data_no_outliers['salary_in_usd'])\n",
    "plt.title('Boxplot of salary_in_usd after outlier removal')\n",
    "plt.show()\n"
   ]
  },
  {
   "cell_type": "markdown",
   "id": "68247b8d",
   "metadata": {},
   "source": [
    "## Step 7: Model Selection and Training"
   ]
  },
  {
   "cell_type": "code",
   "execution_count": 27,
   "id": "d8b72b50",
   "metadata": {},
   "outputs": [
    {
     "name": "stdout",
     "output_type": "stream",
     "text": [
      "<class 'pandas.core.frame.DataFrame'>\n",
      "RangeIndex: 16494 entries, 0 to 16493\n",
      "Data columns (total 16 columns):\n",
      " #   Column                               Non-Null Count  Dtype\n",
      "---  ------                               --------------  -----\n",
      " 0   work_year                            16494 non-null  int64\n",
      " 1   experience_level                     16494 non-null  int64\n",
      " 2   salary_in_usd                        16494 non-null  int64\n",
      " 3   remote_ratio                         16494 non-null  int64\n",
      " 4   company_size                         16494 non-null  int64\n",
      " 5   employment_type_FL                   16494 non-null  uint8\n",
      " 6   employment_type_FT                   16494 non-null  uint8\n",
      " 7   employment_type_PT                   16494 non-null  uint8\n",
      " 8   job_title_Data Engineer              16494 non-null  uint8\n",
      " 9   job_title_Data Scientist             16494 non-null  uint8\n",
      " 10  job_title_Machine Learning Engineer  16494 non-null  uint8\n",
      " 11  job_title_Other                      16494 non-null  uint8\n",
      " 12  job_title_Research Scientist         16494 non-null  uint8\n",
      " 13  company_location_GB                  16494 non-null  uint8\n",
      " 14  company_location_Other               16494 non-null  uint8\n",
      " 15  company_location_US                  16494 non-null  uint8\n",
      "dtypes: int64(5), uint8(11)\n",
      "memory usage: 821.6 KB\n"
     ]
    }
   ],
   "source": [
    "data.info()"
   ]
  },
  {
   "cell_type": "code",
   "execution_count": 28,
   "id": "db8ca8ff",
   "metadata": {},
   "outputs": [
    {
     "name": "stdout",
     "output_type": "stream",
     "text": [
      "Training and evaluating Linear Regression...\n",
      "Training and evaluating Random Forest...\n",
      "Training and evaluating Decision Tree...\n",
      "Training and evaluating Support Vector Regressor (SVR)...\n",
      "Training and evaluating XGBoost...\n",
      "\n",
      "RMSE for each model:\n",
      "Linear Regression: 58391.87986083363\n",
      "Random Forest: 58525.895988594544\n",
      "Decision Tree: 59037.81449049803\n",
      "Support Vector Regressor (SVR): 68702.93970028775\n",
      "XGBoost: 58481.14844540498\n"
     ]
    }
   ],
   "source": [
    "#  Define and evaluate models\n",
    "models = {\n",
    "    'Linear Regression': LinearRegression(),\n",
    "    'Random Forest': RandomForestRegressor(),\n",
    "    'Decision Tree': DecisionTreeRegressor(),\n",
    "    'Support Vector Regressor (SVR)': SVR(),\n",
    "    'XGBoost': XGBRegressor()\n",
    "}\n",
    "\n",
    "model_rmse = {}\n",
    "\n",
    "for name, model in models.items():\n",
    "    print(f\"Training and evaluating {name}...\")\n",
    "    cv_scores = cross_val_score(model, X_train, y_train, cv=5, scoring='neg_mean_squared_error')\n",
    "    rmse = np.sqrt(-cv_scores.mean())\n",
    "    model_rmse[name] = rmse\n",
    "\n",
    "# Display RMSE for each model\n",
    "print(\"\\nRMSE for each model:\")\n",
    "for name, rmse in model_rmse.items():\n",
    "    print(f\"{name}: {rmse}\")\n",
    "\n"
   ]
  },
  {
   "cell_type": "code",
   "execution_count": 29,
   "id": "1720980b",
   "metadata": {},
   "outputs": [
    {
     "name": "stdout",
     "output_type": "stream",
     "text": [
      "\n",
      "R² score for each model:\n",
      "Linear Regression: 0.2670771574889602\n",
      "Random Forest: 0.2717390483172849\n",
      "Decision Tree: 0.24988534950240482\n",
      "Support Vector Regressor (SVR): -0.010431420099103361\n",
      "XGBoost: 0.27037400578162485\n"
     ]
    }
   ],
   "source": [
    "from sklearn.metrics import r2_score\n",
    "\n",
    "# Dictionary to store R² for each model\n",
    "model_r2 = {}\n",
    "\n",
    "for name, model in models.items():\n",
    "    # Train the model on the training data\n",
    "    model.fit(X_train, y_train)\n",
    "    \n",
    "    # Make predictions on the test data\n",
    "    y_pred = model.predict(X_test)\n",
    "    \n",
    "    # Calculate R² score\n",
    "    r2 = r2_score(y_test, y_pred)\n",
    "    \n",
    "    # Store the R² for comparison\n",
    "    model_r2[name] = r2\n",
    "\n",
    "# Display R² for each model\n",
    "print(\"\\nR² score for each model:\")\n",
    "for name, r2 in model_r2.items():\n",
    "    print(f\"{name}: {r2}\")\n"
   ]
  },
  {
   "cell_type": "code",
   "execution_count": 30,
   "id": "26c1224c",
   "metadata": {},
   "outputs": [
    {
     "name": "stdout",
     "output_type": "stream",
     "text": [
      "Linear Regression - Training R²: 26.85%, Test R²: 26.71%\n",
      "Random Forest - Training R²: 32.23%, Test R²: 27.00%\n",
      "Decision Tree - Training R²: 32.54%, Test R²: 25.11%\n",
      "Support Vector Regressor (SVR) - Training R²: -1.50%, Test R²: -1.04%\n",
      "XGBoost - Training R²: 31.96%, Test R²: 27.04%\n"
     ]
    }
   ],
   "source": [
    "for name, model in models.items():\n",
    "    # Train the model\n",
    "    model.fit(X_train, y_train)\n",
    "    \n",
    "    # Predictions\n",
    "    y_train_pred = model.predict(X_train)\n",
    "    y_test_pred = model.predict(X_test)\n",
    "    \n",
    "    # R² Score\n",
    "    train_r2 = r2_score(y_train, y_train_pred) * 100\n",
    "    test_r2 = r2_score(y_test, y_test_pred) * 100\n",
    "    \n",
    "    print(f\"{name} - Training R²: {train_r2:.2f}%, Test R²: {test_r2:.2f}%\")\n"
   ]
  },
  {
   "cell_type": "markdown",
   "id": "fbca1000",
   "metadata": {},
   "source": [
    "# Step 8:  Creating Pipeline"
   ]
  },
  {
   "cell_type": "code",
   "execution_count": 31,
   "id": "4fe03956",
   "metadata": {},
   "outputs": [
    {
     "ename": "NameError",
     "evalue": "name 'ColumnTransformer' is not defined",
     "output_type": "error",
     "traceback": [
      "\u001b[1;31m---------------------------------------------------------------------------\u001b[0m",
      "\u001b[1;31mNameError\u001b[0m                                 Traceback (most recent call last)",
      "Cell \u001b[1;32mIn[31], line 5\u001b[0m\n\u001b[0;32m      2\u001b[0m numerical_cols \u001b[38;5;241m=\u001b[39m [\u001b[38;5;124m'\u001b[39m\u001b[38;5;124mwork_year\u001b[39m\u001b[38;5;124m'\u001b[39m, \u001b[38;5;124m'\u001b[39m\u001b[38;5;124mremote_ratio\u001b[39m\u001b[38;5;124m'\u001b[39m] \n\u001b[0;32m      4\u001b[0m \u001b[38;5;66;03m# Define the preprocessor with only the scaler for numerical columns\u001b[39;00m\n\u001b[1;32m----> 5\u001b[0m preprocessor \u001b[38;5;241m=\u001b[39m \u001b[43mColumnTransformer\u001b[49m(\n\u001b[0;32m      6\u001b[0m     transformers\u001b[38;5;241m=\u001b[39m[(\u001b[38;5;124m'\u001b[39m\u001b[38;5;124mnum\u001b[39m\u001b[38;5;124m'\u001b[39m, StandardScaler(), numerical_cols)],\n\u001b[0;32m      7\u001b[0m     remainder\u001b[38;5;241m=\u001b[39m\u001b[38;5;124m'\u001b[39m\u001b[38;5;124mpassthrough\u001b[39m\u001b[38;5;124m'\u001b[39m  \u001b[38;5;66;03m# Use passthrough to retain all other already-encoded columns\u001b[39;00m\n\u001b[0;32m      8\u001b[0m )\n\u001b[0;32m     10\u001b[0m \u001b[38;5;66;03m# Define models with pipelines, removing the OneHotEncoder step\u001b[39;00m\n\u001b[0;32m     11\u001b[0m models \u001b[38;5;241m=\u001b[39m {\n\u001b[0;32m     12\u001b[0m     \u001b[38;5;124m'\u001b[39m\u001b[38;5;124mLinear Regression\u001b[39m\u001b[38;5;124m'\u001b[39m: Pipeline(steps\u001b[38;5;241m=\u001b[39m[(\u001b[38;5;124m'\u001b[39m\u001b[38;5;124mpreprocessor\u001b[39m\u001b[38;5;124m'\u001b[39m, preprocessor),\n\u001b[0;32m     13\u001b[0m                                          (\u001b[38;5;124m'\u001b[39m\u001b[38;5;124mmodel\u001b[39m\u001b[38;5;124m'\u001b[39m, LinearRegression())]),\n\u001b[1;32m   (...)\u001b[0m\n\u001b[0;32m     19\u001b[0m                                      (\u001b[38;5;124m'\u001b[39m\u001b[38;5;124mmodel\u001b[39m\u001b[38;5;124m'\u001b[39m, DecisionTreeRegressor())])\n\u001b[0;32m     20\u001b[0m }\n",
      "\u001b[1;31mNameError\u001b[0m: name 'ColumnTransformer' is not defined"
     ]
    }
   ],
   "source": [
    "# Define numerical columns that need scaling\n",
    "numerical_cols = ['work_year', 'remote_ratio'] \n",
    "\n",
    "# Define the preprocessor with only the scaler for numerical columns\n",
    "preprocessor = ColumnTransformer(\n",
    "    transformers=[('num', StandardScaler(), numerical_cols)],\n",
    "    remainder='passthrough'  # Use passthrough to retain all other already-encoded columns\n",
    ")\n",
    "\n",
    "# Define models with pipelines, removing the OneHotEncoder step\n",
    "models = {\n",
    "    'Linear Regression': Pipeline(steps=[('preprocessor', preprocessor),\n",
    "                                         ('model', LinearRegression())]),\n",
    "    \n",
    "    'Random Forest': Pipeline(steps=[('preprocessor', preprocessor),\n",
    "                                     ('model', RandomForestRegressor())]),\n",
    "    \n",
    "    'Decision Tree': Pipeline(steps=[('preprocessor', preprocessor),\n",
    "                                     ('model', DecisionTreeRegressor())])\n",
    "}\n",
    "\n",
    "# Evaluate each model using cross-validation and calculate RMSE\n",
    "model_rmse = {}\n",
    "\n",
    "for name, pipeline in models.items():\n",
    "    print(f\"Training and evaluating {name}...\")\n",
    "    \n",
    "    # Cross-validation\n",
    "    cv_scores = cross_val_score(pipeline, X, y, cv=5, scoring='neg_mean_squared_error')\n",
    "    \n",
    "    # Calculate RMSE for the cross-validation scores\n",
    "    rmse = np.sqrt(-cv_scores.mean())\n",
    "    \n",
    "    # Store the RMSE for comparison\n",
    "    model_rmse[name] = rmse\n",
    "\n",
    "# Display RMSE for each model\n",
    "print(\"\\nRMSE for each model:\")\n",
    "for name, rmse in model_rmse.items():\n",
    "    print(f\"{name}: {rmse}\")\n"
   ]
  },
  {
   "cell_type": "code",
   "execution_count": null,
   "id": "2525c705",
   "metadata": {},
   "outputs": [],
   "source": []
  },
  {
   "cell_type": "code",
   "execution_count": null,
   "id": "250c3767",
   "metadata": {},
   "outputs": [],
   "source": []
  }
 ],
 "metadata": {
  "kernelspec": {
   "display_name": "Python 3 (ipykernel)",
   "language": "python",
   "name": "python3"
  },
  "language_info": {
   "codemirror_mode": {
    "name": "ipython",
    "version": 3
   },
   "file_extension": ".py",
   "mimetype": "text/x-python",
   "name": "python",
   "nbconvert_exporter": "python",
   "pygments_lexer": "ipython3",
   "version": "3.10.9"
  }
 },
 "nbformat": 4,
 "nbformat_minor": 5
}
